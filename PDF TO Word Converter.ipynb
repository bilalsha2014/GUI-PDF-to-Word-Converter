{
 "cells": [
  {
   "cell_type": "code",
   "execution_count": 13,
   "metadata": {},
   "outputs": [],
   "source": [
    "\n",
    "#Import Tkinter.Tkinter is the GUI Toolkit for Python.\n",
    "# Import PyPDF2 lIBRARY\n",
    "import tkinter\n",
    "import PyPDF2\n",
    "from tkinter import *\n",
    "from PyPDF2 import PdfFileReader\n",
    "\n",
    "\n",
    "\n",
    "#Open File Method\n",
    "# Create/Define Function to Open File\n",
    "def openFile():\n",
    "#askopenfilename is tkinter function to open file\n",
    "    file=askopenfilename(defaultextension=\".pdf\",filetypes=[(\"Pdf files\",\"*.pdf\")])\n",
    "#If file Input is empty set none in it\n",
    "    if file==\"\":\n",
    "        file=None\n",
    "\n",
    "    else:\n",
    "        fileEntry.delete(0,END)\n",
    "        fileEntry.config(fg=\"blue\")\n",
    "        fileEntry.insert(0,file)\n",
    "\n",
    "\n"
   ]
  },
  {
   "cell_type": "code",
   "execution_count": null,
   "metadata": {},
   "outputs": [],
   "source": []
  },
  {
   "cell_type": "code",
   "execution_count": null,
   "metadata": {},
   "outputs": [],
   "source": []
  },
  {
   "cell_type": "code",
   "execution_count": null,
   "metadata": {},
   "outputs": [],
   "source": []
  },
  {
   "cell_type": "code",
   "execution_count": null,
   "metadata": {},
   "outputs": [],
   "source": []
  },
  {
   "cell_type": "code",
   "execution_count": null,
   "metadata": {},
   "outputs": [],
   "source": []
  },
  {
   "cell_type": "code",
   "execution_count": null,
   "metadata": {},
   "outputs": [],
   "source": []
  }
 ],
 "metadata": {
  "kernelspec": {
   "display_name": "Python 3",
   "language": "python",
   "name": "python3"
  },
  "language_info": {
   "codemirror_mode": {
    "name": "ipython",
    "version": 3
   },
   "file_extension": ".py",
   "mimetype": "text/x-python",
   "name": "python",
   "nbconvert_exporter": "python",
   "pygments_lexer": "ipython3",
   "version": "3.7.1"
  }
 },
 "nbformat": 4,
 "nbformat_minor": 2
}
